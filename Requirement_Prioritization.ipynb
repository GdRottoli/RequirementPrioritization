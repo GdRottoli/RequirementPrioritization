{
  "nbformat": 4,
  "nbformat_minor": 0,
  "metadata": {
    "colab": {
      "name": "Requirement Priorization.ipynb",
      "provenance": [],
      "collapsed_sections": [],
      "include_colab_link": true
    },
    "kernelspec": {
      "name": "python3",
      "display_name": "Python 3"
    },
    "language_info": {
      "name": "python"
    }
  },
  "cells": [
    {
      "cell_type": "markdown",
      "metadata": {
        "id": "view-in-github",
        "colab_type": "text"
      },
      "source": [
        "<a href=\"https://colab.research.google.com/github/GdRottoli/RequirementPriorization/blob/main/Requirement_Priorization.ipynb\" target=\"_parent\"><img src=\"https://colab.research.google.com/assets/colab-badge.svg\" alt=\"Open In Colab\"/></a>"
      ]
    },
    {
      "cell_type": "markdown",
      "metadata": {
        "id": "-lZoTxK37mqX"
      },
      "source": [
        "# Multi-criteria Requirement Priorization based on the opinion of many experts using fuzzy linguistic labels\n",
        "\n",
        "Below, there is the implementation of a multi-criteria requirement priorization (RP) method, using as imput the opinion of many experts on many dimensions.\n",
        "\n",
        "Each dimension and each expert can be ponderated differently.\n",
        "\n",
        "The experts' opinions as well as the dimensions and experts ponderations are expresed using a linguistic scale specified by the decision-maker. \n",
        "\n",
        "The experts' opinions are aggregated considering the frequency of the opinions provided for a requirement on a specific dimension. This is performed using the Majority Guided Induced OWA (MLIOWA).\n",
        "\n",
        "----\n",
        "\n",
        "## How to use\n",
        "\n",
        "In order to use this notebook, first see the example xls file used as input. That file contains for each expert a sheet with their opinions. **It is important to use the same exact format.**\n",
        "\n",
        "Then, in the Configuration area, the user need to specify the following values:\n",
        "\n",
        "*   `S:` Linguistic labels, ordered from lowest to highest value.\n",
        "*   `experts_importance`: importance of each expert, it is important specify the values in the exact order as in the input file. \n",
        "*   `dimensions_weights`: for each dimension, its important can be specified using linguistic labels from S or using numbers. All the dimensions MUST be listed. \n",
        "*   `data_file_path`: the path to the input file. \n",
        "\n",
        "Then, the whole notebook can be executed in one go (`Ctrl+F9`) or cell by cell. \n",
        "\n",
        "The last cell shows the partial order of the requirements. \n",
        "\n",
        "----\n",
        "\n",
        "For suggestions or comments please send an e-mail to:\n",
        "*   gd.rottoli@gmail.com\n",
        "*   carlos.casanova16@gmail.com \n",
        "\n",
        "Finally, we apologise for our English!\n",
        "\n"
      ]
    },
    {
      "cell_type": "markdown",
      "metadata": {
        "id": "hDPnOZUQMcvV"
      },
      "source": [
        "# Configuration"
      ]
    },
    {
      "cell_type": "code",
      "metadata": {
        "id": "3JNAYXYLLfm2"
      },
      "source": [
        "S = ('Very Low', 'Low', 'Middle', 'High', 'Very High')"
      ],
      "execution_count": 368,
      "outputs": []
    },
    {
      "cell_type": "code",
      "metadata": {
        "id": "OMenptTJ1VlG"
      },
      "source": [
        "experts_importance = ['Middle', 'Very High', 'Middle', 'Middle', 'Middle']"
      ],
      "execution_count": 369,
      "outputs": []
    },
    {
      "cell_type": "code",
      "metadata": {
        "id": "BcS9lNMmrTLY"
      },
      "source": [
        "# Same column names as in the input file\n",
        "# The values should be float or belong to S. DO NOT mix float and labels.\n",
        "dimensions_weights = { \n",
        "    'Complexity': 'Very High',\n",
        "    'Reusability': 'Middle',\n",
        "    'Importance':  'Middle'\n",
        "}"
      ],
      "execution_count": 370,
      "outputs": []
    },
    {
      "cell_type": "code",
      "metadata": {
        "id": "HlhyZQgHcT5U"
      },
      "source": [
        "# See attached file for example\n",
        "data_file_path = 'Data_ReqPri_1E.xls' "
      ],
      "execution_count": 371,
      "outputs": []
    },
    {
      "cell_type": "markdown",
      "metadata": {
        "id": "DEGBuuDy-fw3"
      },
      "source": [
        "# Excecution"
      ]
    },
    {
      "cell_type": "code",
      "metadata": {
        "id": "jwSeeBXQLcIx"
      },
      "source": [
        "#@title Imports {display-mode: \"form\"}\n",
        "\n",
        "import numpy as np\n",
        "import pandas as pd\n",
        "import itertools"
      ],
      "execution_count": 372,
      "outputs": []
    },
    {
      "cell_type": "code",
      "metadata": {
        "id": "p_2htCQDMa4I"
      },
      "source": [
        "#@title Data Loading {display-mode: \"form\"}\n",
        "xls = pd.ExcelFile(data_file_path)\n",
        "df = pd.concat(pd.read_excel(xls, sheet_name=None))\n",
        "df = df.droplevel(1).reset_index()"
      ],
      "execution_count": 373,
      "outputs": []
    },
    {
      "cell_type": "markdown",
      "metadata": {
        "id": "pabsYRN8YFCC"
      },
      "source": [
        "## Functions "
      ]
    },
    {
      "cell_type": "code",
      "metadata": {
        "id": "IRiCZUIAYRsB"
      },
      "source": [
        "#@title Basic fuzzy functions {display-mode: \"form\"}\n",
        "\n",
        "labelValue = lambda x: S.index(x)\n",
        "\n",
        "labelMax = lambda x,y: S[max(labelValue(x), labelValue(y))]\n",
        "labelMin = lambda x,y: S[min(labelValue(x), labelValue(y))]\n",
        "neg = lambda x: S[len(S) - labelValue(x)  - 1]\n",
        "# Implication\n",
        "imp = lambda x, y : labelMax(neg(x), y)"
      ],
      "execution_count": 374,
      "outputs": []
    },
    {
      "cell_type": "code",
      "metadata": {
        "id": "waeGQybTkUnL"
      },
      "source": [
        "#@title Fuzzy Quantifier {display-mode: \"form\"}\n",
        "def most(x, li = 0.3, ls = 0.8, exp=1.0):\n",
        "  if x < li: \n",
        "    return 0\n",
        "  elif x >= ls :\n",
        "    return 1\n",
        "  else:\n",
        "    return  ((x - li) / (ls - li))**exp"
      ],
      "execution_count": 375,
      "outputs": []
    },
    {
      "cell_type": "code",
      "metadata": {
        "id": "SeBDfgkWd0kj"
      },
      "source": [
        "#@title Support function {display-mode: \"form\"}\n",
        "def support(I, alpha=1):\n",
        "  sup = []\n",
        "  for i in I:\n",
        "    sup.append(sum([1 for j in I if abs(labelValue(i) - labelValue(j)) <= alpha]))\n",
        "  return sup"
      ],
      "execution_count": 376,
      "outputs": []
    },
    {
      "cell_type": "code",
      "metadata": {
        "id": "rtZE4a-HZz0M"
      },
      "source": [
        "#@title Majority Guided IOWA {display-mode: \"form\"}\n",
        "def MLIOWAPond(I, P):\n",
        "  '''\n",
        "    MLIOWAPond: S x S --> S\n",
        "    I: importance degree\n",
        "    P: expert's opinion\n",
        "  '''\n",
        "  # Induced Order\n",
        "  U = (np.array(support(I, alpha=1)) + np.array([labelValue(i) for i in I])) / 2\n",
        "  Us, Ps = zip(*sorted(zip(U, P), key = lambda t: t[0]))\n",
        "  # Weights\n",
        "  # Error if most = 0 --> division by 0\n",
        "  # Use implication\n",
        "  W_aux = list(map(most,np.array(Us)/len(Us)))\n",
        "  W = np.array(W_aux) / sum(W_aux)\n",
        "  IndPs = list(map(labelValue, Ps))\n",
        "  k = sum(np.array(W) * np.array(IndPs))\n",
        "  return S[round(k)]"
      ],
      "execution_count": 377,
      "outputs": []
    },
    {
      "cell_type": "markdown",
      "metadata": {
        "id": "Xx44Pql2rVXM"
      },
      "source": [
        "## Aggregation"
      ]
    },
    {
      "cell_type": "code",
      "metadata": {
        "colab": {
          "base_uri": "https://localhost:8080/",
          "height": 390
        },
        "id": "zmSipVrrrURU",
        "outputId": "d6409d49-add8-4941-d421-be8ebd6df501"
      },
      "source": [
        "# Apply expert importance to each\n",
        "agg_func = lambda x : MLIOWAPond(experts_importance, x)\n",
        "dfagg = df.groupby('Id').aggregate({'index':sum,\n",
        "                            'Complexity':agg_func,\n",
        "                            'Reusability':agg_func,\n",
        "                            'Importance':agg_func})\n",
        "dfagg = dfagg.drop('index', 1)\n",
        "\n",
        "# Ponderate dimensions if linguistic weights\n",
        "if type(list(dimensions_weights.values())[0]) is str:\n",
        "  for column in dfagg.columns:\n",
        "    dfagg[column] = list(map(imp, [dimensions_weights[column]]*len(dfagg[column]), dfagg[column]))\n",
        "dfagg"
      ],
      "execution_count": 378,
      "outputs": [
        {
          "output_type": "execute_result",
          "data": {
            "text/html": [
              "<div>\n",
              "<style scoped>\n",
              "    .dataframe tbody tr th:only-of-type {\n",
              "        vertical-align: middle;\n",
              "    }\n",
              "\n",
              "    .dataframe tbody tr th {\n",
              "        vertical-align: top;\n",
              "    }\n",
              "\n",
              "    .dataframe thead th {\n",
              "        text-align: right;\n",
              "    }\n",
              "</style>\n",
              "<table border=\"1\" class=\"dataframe\">\n",
              "  <thead>\n",
              "    <tr style=\"text-align: right;\">\n",
              "      <th></th>\n",
              "      <th>Complexity</th>\n",
              "      <th>Reusability</th>\n",
              "      <th>Importance</th>\n",
              "    </tr>\n",
              "    <tr>\n",
              "      <th>Id</th>\n",
              "      <th></th>\n",
              "      <th></th>\n",
              "      <th></th>\n",
              "    </tr>\n",
              "  </thead>\n",
              "  <tbody>\n",
              "    <tr>\n",
              "      <th>1</th>\n",
              "      <td>Middle</td>\n",
              "      <td>Middle</td>\n",
              "      <td>High</td>\n",
              "    </tr>\n",
              "    <tr>\n",
              "      <th>2</th>\n",
              "      <td>Middle</td>\n",
              "      <td>Very High</td>\n",
              "      <td>Very High</td>\n",
              "    </tr>\n",
              "    <tr>\n",
              "      <th>3</th>\n",
              "      <td>Very High</td>\n",
              "      <td>Middle</td>\n",
              "      <td>High</td>\n",
              "    </tr>\n",
              "    <tr>\n",
              "      <th>4</th>\n",
              "      <td>Very Low</td>\n",
              "      <td>Middle</td>\n",
              "      <td>Middle</td>\n",
              "    </tr>\n",
              "    <tr>\n",
              "      <th>5</th>\n",
              "      <td>Middle</td>\n",
              "      <td>High</td>\n",
              "      <td>High</td>\n",
              "    </tr>\n",
              "    <tr>\n",
              "      <th>6</th>\n",
              "      <td>Very High</td>\n",
              "      <td>Very High</td>\n",
              "      <td>High</td>\n",
              "    </tr>\n",
              "    <tr>\n",
              "      <th>7</th>\n",
              "      <td>Low</td>\n",
              "      <td>Middle</td>\n",
              "      <td>Middle</td>\n",
              "    </tr>\n",
              "    <tr>\n",
              "      <th>8</th>\n",
              "      <td>Very Low</td>\n",
              "      <td>Middle</td>\n",
              "      <td>Middle</td>\n",
              "    </tr>\n",
              "    <tr>\n",
              "      <th>9</th>\n",
              "      <td>Very Low</td>\n",
              "      <td>Middle</td>\n",
              "      <td>Middle</td>\n",
              "    </tr>\n",
              "    <tr>\n",
              "      <th>10</th>\n",
              "      <td>Low</td>\n",
              "      <td>Middle</td>\n",
              "      <td>Very High</td>\n",
              "    </tr>\n",
              "  </tbody>\n",
              "</table>\n",
              "</div>"
            ],
            "text/plain": [
              "   Complexity Reusability Importance\n",
              "Id                                  \n",
              "1      Middle      Middle       High\n",
              "2      Middle   Very High  Very High\n",
              "3   Very High      Middle       High\n",
              "4    Very Low      Middle     Middle\n",
              "5      Middle        High       High\n",
              "6   Very High   Very High       High\n",
              "7         Low      Middle     Middle\n",
              "8    Very Low      Middle     Middle\n",
              "9    Very Low      Middle     Middle\n",
              "10        Low      Middle  Very High"
            ]
          },
          "metadata": {},
          "execution_count": 378
        }
      ]
    },
    {
      "cell_type": "markdown",
      "metadata": {
        "id": "xdJq1toQmko6"
      },
      "source": [
        "##Priorization"
      ]
    },
    {
      "cell_type": "code",
      "metadata": {
        "id": "_Eu8im79si-Z"
      },
      "source": [
        "comparison_mu = lambda x: 1 if labelValue(x[0]) >= labelValue(x[1]) else (0.5 if labelValue(x[0]) == (labelValue(x[1]) - 1) else 0)"
      ],
      "execution_count": 379,
      "outputs": []
    },
    {
      "cell_type": "code",
      "metadata": {
        "id": "HULhb0gjmj9l"
      },
      "source": [
        "indexes = dfagg.index.values\n",
        "global_comparison_matrix = []\n",
        "order = []\n",
        "\n",
        "for column in dfagg.columns:\n",
        "  # Cross product\n",
        "  cross_product = list(itertools.product(dfagg[column],dfagg[column]))\n",
        "  # Comparison matrix\n",
        "  comparison_matrix = np.array(list(map(comparison_mu, cross_product)))\n",
        "  # Ponderate according to dimension\n",
        "  if type(list(dimensions_weights.values())[0]) in [float, int]:\n",
        "    comparison_matrix = comparison_matrix ** dimensions_weights[column]\n",
        "  # Global comparison matrix (T-norm min)\n",
        "  if len(global_comparison_matrix) == 0:\n",
        "    global_comparison_matrix = comparison_matrix\n",
        "  else:\n",
        "    global_comparison_matrix = np.minimum(global_comparison_matrix, comparison_matrix)\n",
        "\n",
        "# Reshape: turn vector into matrix\n",
        "dim = int(len(indexes))\n",
        "global_comparison_matrix = global_comparison_matrix.reshape((dim,dim))\n",
        "\n",
        "# Extrict relation\n",
        "strict_relation = global_comparison_matrix - global_comparison_matrix.T\n",
        "strict_relation[strict_relation < 0] = 0 \n",
        "\n",
        "# Non dominance vector\n",
        "while len(indexes) > 0:\n",
        "  non_dominance_vector = 1 - np.amax(strict_relation, 0)\n",
        "  non_dominated = np.where(non_dominance_vector == max(non_dominance_vector))\n",
        "  # get non dominated requirements\n",
        "  order.append(list(indexes[non_dominated]))\n",
        "  # remove non_dominated from matrix and indexes\n",
        "  indexes = np.delete(indexes, non_dominated)\n",
        "  strict_relation = np.delete( np.delete(strict_relation, non_dominated, 0), non_dominated, 1)"
      ],
      "execution_count": 380,
      "outputs": []
    },
    {
      "cell_type": "markdown",
      "metadata": {
        "id": "OYsmb2O7-pRQ"
      },
      "source": [
        "# Output"
      ]
    },
    {
      "cell_type": "code",
      "metadata": {
        "id": "l-9Fzk_Gb7WK",
        "colab": {
          "base_uri": "https://localhost:8080/"
        },
        "outputId": "8034d79d-77c6-4551-88fa-3c87f0890962"
      },
      "source": [
        "print(\"-----------------------------\")\n",
        "print(\" Requirement's Priorization \")\n",
        "print(\"-----------------------------\")\n",
        "for i, l in enumerate(order):\n",
        "  print(\"Position \", i+1, \": Requirements: \", l )"
      ],
      "execution_count": 381,
      "outputs": [
        {
          "output_type": "stream",
          "text": [
            "-----------------------------\n",
            " Requirement's Priorization \n",
            "-----------------------------\n",
            "Position  1 : Requirements:  [6]\n",
            "Position  2 : Requirements:  [2, 3]\n",
            "Position  3 : Requirements:  [5, 10]\n",
            "Position  4 : Requirements:  [1]\n",
            "Position  5 : Requirements:  [7]\n",
            "Position  6 : Requirements:  [4, 8, 9]\n"
          ],
          "name": "stdout"
        }
      ]
    }
  ]
}
